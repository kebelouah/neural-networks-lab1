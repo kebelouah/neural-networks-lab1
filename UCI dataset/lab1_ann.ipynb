{
 "cells": [
  {
   "cell_type": "markdown",
   "id": "a98eeff8",
   "metadata": {},
   "source": [
    "# Εισαγωγή και επισκόπηση\n",
    "The dataset concerns with the classification of two mental stages from recorded EEG signals: Planning (during imagination of motor act) and Relax state."
   ]
  },
  {
   "cell_type": "code",
   "execution_count": 1,
   "id": "a8cd5cbb",
   "metadata": {},
   "outputs": [],
   "source": [
    "import pandas as pd\n",
    "import numpy as np"
   ]
  },
  {
   "cell_type": "code",
   "execution_count": 2,
   "id": "776bc277",
   "metadata": {},
   "outputs": [
    {
     "data": {
      "text/html": [
       "<div>\n",
       "<style scoped>\n",
       "    .dataframe tbody tr th:only-of-type {\n",
       "        vertical-align: middle;\n",
       "    }\n",
       "\n",
       "    .dataframe tbody tr th {\n",
       "        vertical-align: top;\n",
       "    }\n",
       "\n",
       "    .dataframe thead th {\n",
       "        text-align: right;\n",
       "    }\n",
       "</style>\n",
       "<table border=\"1\" class=\"dataframe\">\n",
       "  <thead>\n",
       "    <tr style=\"text-align: right;\">\n",
       "      <th></th>\n",
       "      <th>0</th>\n",
       "      <th>1</th>\n",
       "      <th>2</th>\n",
       "      <th>3</th>\n",
       "      <th>4</th>\n",
       "      <th>5</th>\n",
       "      <th>6</th>\n",
       "      <th>7</th>\n",
       "      <th>8</th>\n",
       "      <th>9</th>\n",
       "      <th>10</th>\n",
       "      <th>11</th>\n",
       "      <th>12</th>\n",
       "      <th>13</th>\n",
       "    </tr>\n",
       "  </thead>\n",
       "  <tbody>\n",
       "    <tr>\n",
       "      <th>0</th>\n",
       "      <td>-0.17936</td>\n",
       "      <td>-0.207000</td>\n",
       "      <td>-0.209710</td>\n",
       "      <td>-0.097260</td>\n",
       "      <td>-0.119210</td>\n",
       "      <td>-0.173220</td>\n",
       "      <td>-0.280760</td>\n",
       "      <td>0.223170</td>\n",
       "      <td>0.418660</td>\n",
       "      <td>-0.032886</td>\n",
       "      <td>0.003383</td>\n",
       "      <td>-0.334250</td>\n",
       "      <td>1.0</td>\n",
       "      <td>NaN</td>\n",
       "    </tr>\n",
       "    <tr>\n",
       "      <th>1</th>\n",
       "      <td>-0.14659</td>\n",
       "      <td>-0.164940</td>\n",
       "      <td>0.249870</td>\n",
       "      <td>-0.073985</td>\n",
       "      <td>0.494940</td>\n",
       "      <td>-0.156330</td>\n",
       "      <td>-0.288910</td>\n",
       "      <td>0.500800</td>\n",
       "      <td>-0.045553</td>\n",
       "      <td>0.050759</td>\n",
       "      <td>-0.017511</td>\n",
       "      <td>0.066959</td>\n",
       "      <td>1.0</td>\n",
       "      <td>NaN</td>\n",
       "    </tr>\n",
       "    <tr>\n",
       "      <th>2</th>\n",
       "      <td>-0.13131</td>\n",
       "      <td>0.518160</td>\n",
       "      <td>0.432810</td>\n",
       "      <td>0.397890</td>\n",
       "      <td>0.043127</td>\n",
       "      <td>0.563200</td>\n",
       "      <td>-0.013246</td>\n",
       "      <td>-0.062833</td>\n",
       "      <td>-0.883390</td>\n",
       "      <td>-0.040303</td>\n",
       "      <td>0.088057</td>\n",
       "      <td>0.631200</td>\n",
       "      <td>2.0</td>\n",
       "      <td>NaN</td>\n",
       "    </tr>\n",
       "    <tr>\n",
       "      <th>3</th>\n",
       "      <td>0.64940</td>\n",
       "      <td>0.418780</td>\n",
       "      <td>0.148350</td>\n",
       "      <td>0.333490</td>\n",
       "      <td>-0.219740</td>\n",
       "      <td>0.398910</td>\n",
       "      <td>0.590650</td>\n",
       "      <td>0.077100</td>\n",
       "      <td>-1.107200</td>\n",
       "      <td>-0.367230</td>\n",
       "      <td>0.364680</td>\n",
       "      <td>0.571720</td>\n",
       "      <td>1.0</td>\n",
       "      <td>NaN</td>\n",
       "    </tr>\n",
       "    <tr>\n",
       "      <th>4</th>\n",
       "      <td>-0.40628</td>\n",
       "      <td>0.115030</td>\n",
       "      <td>0.073336</td>\n",
       "      <td>0.070066</td>\n",
       "      <td>-0.030920</td>\n",
       "      <td>0.152050</td>\n",
       "      <td>-0.191420</td>\n",
       "      <td>-0.580430</td>\n",
       "      <td>-0.102250</td>\n",
       "      <td>0.153750</td>\n",
       "      <td>-0.126950</td>\n",
       "      <td>0.184570</td>\n",
       "      <td>1.0</td>\n",
       "      <td>NaN</td>\n",
       "    </tr>\n",
       "    <tr>\n",
       "      <th>...</th>\n",
       "      <td>...</td>\n",
       "      <td>...</td>\n",
       "      <td>...</td>\n",
       "      <td>...</td>\n",
       "      <td>...</td>\n",
       "      <td>...</td>\n",
       "      <td>...</td>\n",
       "      <td>...</td>\n",
       "      <td>...</td>\n",
       "      <td>...</td>\n",
       "      <td>...</td>\n",
       "      <td>...</td>\n",
       "      <td>...</td>\n",
       "      <td>...</td>\n",
       "    </tr>\n",
       "    <tr>\n",
       "      <th>177</th>\n",
       "      <td>-0.55005</td>\n",
       "      <td>0.276290</td>\n",
       "      <td>-0.273240</td>\n",
       "      <td>0.113190</td>\n",
       "      <td>-0.776980</td>\n",
       "      <td>0.522660</td>\n",
       "      <td>-0.850620</td>\n",
       "      <td>0.440040</td>\n",
       "      <td>0.203910</td>\n",
       "      <td>-0.014462</td>\n",
       "      <td>0.002273</td>\n",
       "      <td>-0.100480</td>\n",
       "      <td>2.0</td>\n",
       "      <td>NaN</td>\n",
       "    </tr>\n",
       "    <tr>\n",
       "      <th>178</th>\n",
       "      <td>-0.78399</td>\n",
       "      <td>0.254600</td>\n",
       "      <td>-0.700990</td>\n",
       "      <td>-0.299170</td>\n",
       "      <td>-0.858330</td>\n",
       "      <td>0.210500</td>\n",
       "      <td>-0.530050</td>\n",
       "      <td>0.518550</td>\n",
       "      <td>-0.303190</td>\n",
       "      <td>0.020018</td>\n",
       "      <td>-0.020915</td>\n",
       "      <td>0.663940</td>\n",
       "      <td>1.0</td>\n",
       "      <td>NaN</td>\n",
       "    </tr>\n",
       "    <tr>\n",
       "      <th>179</th>\n",
       "      <td>0.29877</td>\n",
       "      <td>-0.179620</td>\n",
       "      <td>0.032859</td>\n",
       "      <td>-0.899010</td>\n",
       "      <td>0.540300</td>\n",
       "      <td>-0.361840</td>\n",
       "      <td>0.177900</td>\n",
       "      <td>0.713250</td>\n",
       "      <td>-0.098148</td>\n",
       "      <td>-0.411130</td>\n",
       "      <td>0.246830</td>\n",
       "      <td>-0.389160</td>\n",
       "      <td>2.0</td>\n",
       "      <td>NaN</td>\n",
       "    </tr>\n",
       "    <tr>\n",
       "      <th>180</th>\n",
       "      <td>-0.37812</td>\n",
       "      <td>-0.522870</td>\n",
       "      <td>0.215410</td>\n",
       "      <td>-0.243590</td>\n",
       "      <td>0.637840</td>\n",
       "      <td>-0.492210</td>\n",
       "      <td>-0.506930</td>\n",
       "      <td>-0.258110</td>\n",
       "      <td>-0.328990</td>\n",
       "      <td>-0.039117</td>\n",
       "      <td>0.007591</td>\n",
       "      <td>0.476030</td>\n",
       "      <td>1.0</td>\n",
       "      <td>NaN</td>\n",
       "    </tr>\n",
       "    <tr>\n",
       "      <th>181</th>\n",
       "      <td>0.37913</td>\n",
       "      <td>-0.046562</td>\n",
       "      <td>-0.123360</td>\n",
       "      <td>-0.063958</td>\n",
       "      <td>-0.109830</td>\n",
       "      <td>-0.045824</td>\n",
       "      <td>0.123800</td>\n",
       "      <td>0.496240</td>\n",
       "      <td>-0.641570</td>\n",
       "      <td>-0.242290</td>\n",
       "      <td>0.173690</td>\n",
       "      <td>0.490630</td>\n",
       "      <td>2.0</td>\n",
       "      <td>NaN</td>\n",
       "    </tr>\n",
       "  </tbody>\n",
       "</table>\n",
       "<p>182 rows × 14 columns</p>\n",
       "</div>"
      ],
      "text/plain": [
       "          0         1         2         3         4         5         6   \\\n",
       "0   -0.17936 -0.207000 -0.209710 -0.097260 -0.119210 -0.173220 -0.280760   \n",
       "1   -0.14659 -0.164940  0.249870 -0.073985  0.494940 -0.156330 -0.288910   \n",
       "2   -0.13131  0.518160  0.432810  0.397890  0.043127  0.563200 -0.013246   \n",
       "3    0.64940  0.418780  0.148350  0.333490 -0.219740  0.398910  0.590650   \n",
       "4   -0.40628  0.115030  0.073336  0.070066 -0.030920  0.152050 -0.191420   \n",
       "..       ...       ...       ...       ...       ...       ...       ...   \n",
       "177 -0.55005  0.276290 -0.273240  0.113190 -0.776980  0.522660 -0.850620   \n",
       "178 -0.78399  0.254600 -0.700990 -0.299170 -0.858330  0.210500 -0.530050   \n",
       "179  0.29877 -0.179620  0.032859 -0.899010  0.540300 -0.361840  0.177900   \n",
       "180 -0.37812 -0.522870  0.215410 -0.243590  0.637840 -0.492210 -0.506930   \n",
       "181  0.37913 -0.046562 -0.123360 -0.063958 -0.109830 -0.045824  0.123800   \n",
       "\n",
       "           7         8         9         10        11   12  13  \n",
       "0    0.223170  0.418660 -0.032886  0.003383 -0.334250  1.0 NaN  \n",
       "1    0.500800 -0.045553  0.050759 -0.017511  0.066959  1.0 NaN  \n",
       "2   -0.062833 -0.883390 -0.040303  0.088057  0.631200  2.0 NaN  \n",
       "3    0.077100 -1.107200 -0.367230  0.364680  0.571720  1.0 NaN  \n",
       "4   -0.580430 -0.102250  0.153750 -0.126950  0.184570  1.0 NaN  \n",
       "..        ...       ...       ...       ...       ...  ...  ..  \n",
       "177  0.440040  0.203910 -0.014462  0.002273 -0.100480  2.0 NaN  \n",
       "178  0.518550 -0.303190  0.020018 -0.020915  0.663940  1.0 NaN  \n",
       "179  0.713250 -0.098148 -0.411130  0.246830 -0.389160  2.0 NaN  \n",
       "180 -0.258110 -0.328990 -0.039117  0.007591  0.476030  1.0 NaN  \n",
       "181  0.496240 -0.641570 -0.242290  0.173690  0.490630  2.0 NaN  \n",
       "\n",
       "[182 rows x 14 columns]"
      ]
     },
     "execution_count": 2,
     "metadata": {},
     "output_type": "execute_result"
    }
   ],
   "source": [
    "df = pd.read_csv('../dataset/plrx.txt', delimiter = \"\\t\", header=None)\n",
    "df"
   ]
  },
  {
   "cell_type": "code",
   "execution_count": 3,
   "id": "156289b6",
   "metadata": {},
   "outputs": [
    {
     "data": {
      "text/plain": [
       "(182, 14)"
      ]
     },
     "execution_count": 3,
     "metadata": {},
     "output_type": "execute_result"
    }
   ],
   "source": [
    "df.shape\n",
    "#τα δείγματα (instances) είναι οι γραμμές και τα χαρακτηριστικά (attributes) οι στήλες\n",
    "#χρειάστηκε το header=None για να μην παίρνει ως επικεφαλίδα την πρώτη γραμμή\n",
    "\n",
    "#λόγω space στο txt έχει μια έξτρα στήλη NaN που πρέπει να διορθωθεί.\n",
    "#df.shape -> διαστάσεις dataframe"
   ]
  },
  {
   "cell_type": "code",
   "execution_count": 4,
   "id": "49db1418",
   "metadata": {},
   "outputs": [
    {
     "data": {
      "text/plain": [
       "0       0.0\n",
       "1       0.0\n",
       "2       0.0\n",
       "3       0.0\n",
       "4       0.0\n",
       "5       0.0\n",
       "6       0.0\n",
       "7       0.0\n",
       "8       0.0\n",
       "9       0.0\n",
       "10      0.0\n",
       "11      0.0\n",
       "12      0.0\n",
       "13    100.0\n",
       "dtype: float64"
      ]
     },
     "execution_count": 4,
     "metadata": {},
     "output_type": "execute_result"
    }
   ],
   "source": [
    "df.isnull()\n",
    "\n",
    "#εντολή isnull δίνεται η τιμή True όπου υπάρχει κενή τιμή στο dataset, με την isnull.sum() μπορούμε να δούμε σε κάθε κολόνα\n",
    "#πόσα κενά υπάρχουν\n",
    "\n",
    "pd.isnull(df).sum()\n",
    "\n",
    "#παρατηρούμε οτι στην κολόνα 13 λείπουν όλες οι τιμές \n",
    "\n",
    "percent_missing = df.isnull().sum() * 100 / len(df)\n",
    "percent_missing\n",
    "\n"
   ]
  },
  {
   "cell_type": "code",
   "execution_count": 5,
   "id": "20ebe4cd",
   "metadata": {},
   "outputs": [
    {
     "data": {
      "text/plain": [
       "(182, 13)"
      ]
     },
     "execution_count": 5,
     "metadata": {},
     "output_type": "execute_result"
    }
   ],
   "source": [
    "df.drop(13, axis=1, inplace=True)\n",
    "#axis=1 όταν πρόκεται για κολόνα, inplace=True για να κάνει την αλλαγή και όχι μόνο να μας δείξει πως θα ήταν\n",
    "df.shape"
   ]
  },
  {
   "cell_type": "code",
   "execution_count": 6,
   "id": "076d5ce2",
   "metadata": {},
   "outputs": [
    {
     "data": {
      "text/html": [
       "<div>\n",
       "<style scoped>\n",
       "    .dataframe tbody tr th:only-of-type {\n",
       "        vertical-align: middle;\n",
       "    }\n",
       "\n",
       "    .dataframe tbody tr th {\n",
       "        vertical-align: top;\n",
       "    }\n",
       "\n",
       "    .dataframe thead th {\n",
       "        text-align: right;\n",
       "    }\n",
       "</style>\n",
       "<table border=\"1\" class=\"dataframe\">\n",
       "  <thead>\n",
       "    <tr style=\"text-align: right;\">\n",
       "      <th></th>\n",
       "      <th>0</th>\n",
       "      <th>1</th>\n",
       "      <th>2</th>\n",
       "      <th>3</th>\n",
       "      <th>4</th>\n",
       "      <th>5</th>\n",
       "      <th>6</th>\n",
       "      <th>7</th>\n",
       "      <th>8</th>\n",
       "      <th>9</th>\n",
       "      <th>10</th>\n",
       "      <th>11</th>\n",
       "      <th>12</th>\n",
       "    </tr>\n",
       "  </thead>\n",
       "  <tbody>\n",
       "    <tr>\n",
       "      <th>0</th>\n",
       "      <td>-0.17936</td>\n",
       "      <td>-0.207000</td>\n",
       "      <td>-0.209710</td>\n",
       "      <td>-0.097260</td>\n",
       "      <td>-0.119210</td>\n",
       "      <td>-0.173220</td>\n",
       "      <td>-0.280760</td>\n",
       "      <td>0.223170</td>\n",
       "      <td>0.418660</td>\n",
       "      <td>-0.032886</td>\n",
       "      <td>0.003383</td>\n",
       "      <td>-0.334250</td>\n",
       "      <td>1.0</td>\n",
       "    </tr>\n",
       "    <tr>\n",
       "      <th>1</th>\n",
       "      <td>-0.14659</td>\n",
       "      <td>-0.164940</td>\n",
       "      <td>0.249870</td>\n",
       "      <td>-0.073985</td>\n",
       "      <td>0.494940</td>\n",
       "      <td>-0.156330</td>\n",
       "      <td>-0.288910</td>\n",
       "      <td>0.500800</td>\n",
       "      <td>-0.045553</td>\n",
       "      <td>0.050759</td>\n",
       "      <td>-0.017511</td>\n",
       "      <td>0.066959</td>\n",
       "      <td>1.0</td>\n",
       "    </tr>\n",
       "    <tr>\n",
       "      <th>2</th>\n",
       "      <td>-0.13131</td>\n",
       "      <td>0.518160</td>\n",
       "      <td>0.432810</td>\n",
       "      <td>0.397890</td>\n",
       "      <td>0.043127</td>\n",
       "      <td>0.563200</td>\n",
       "      <td>-0.013246</td>\n",
       "      <td>-0.062833</td>\n",
       "      <td>-0.883390</td>\n",
       "      <td>-0.040303</td>\n",
       "      <td>0.088057</td>\n",
       "      <td>0.631200</td>\n",
       "      <td>2.0</td>\n",
       "    </tr>\n",
       "    <tr>\n",
       "      <th>3</th>\n",
       "      <td>0.64940</td>\n",
       "      <td>0.418780</td>\n",
       "      <td>0.148350</td>\n",
       "      <td>0.333490</td>\n",
       "      <td>-0.219740</td>\n",
       "      <td>0.398910</td>\n",
       "      <td>0.590650</td>\n",
       "      <td>0.077100</td>\n",
       "      <td>-1.107200</td>\n",
       "      <td>-0.367230</td>\n",
       "      <td>0.364680</td>\n",
       "      <td>0.571720</td>\n",
       "      <td>1.0</td>\n",
       "    </tr>\n",
       "    <tr>\n",
       "      <th>4</th>\n",
       "      <td>-0.40628</td>\n",
       "      <td>0.115030</td>\n",
       "      <td>0.073336</td>\n",
       "      <td>0.070066</td>\n",
       "      <td>-0.030920</td>\n",
       "      <td>0.152050</td>\n",
       "      <td>-0.191420</td>\n",
       "      <td>-0.580430</td>\n",
       "      <td>-0.102250</td>\n",
       "      <td>0.153750</td>\n",
       "      <td>-0.126950</td>\n",
       "      <td>0.184570</td>\n",
       "      <td>1.0</td>\n",
       "    </tr>\n",
       "    <tr>\n",
       "      <th>...</th>\n",
       "      <td>...</td>\n",
       "      <td>...</td>\n",
       "      <td>...</td>\n",
       "      <td>...</td>\n",
       "      <td>...</td>\n",
       "      <td>...</td>\n",
       "      <td>...</td>\n",
       "      <td>...</td>\n",
       "      <td>...</td>\n",
       "      <td>...</td>\n",
       "      <td>...</td>\n",
       "      <td>...</td>\n",
       "      <td>...</td>\n",
       "    </tr>\n",
       "    <tr>\n",
       "      <th>177</th>\n",
       "      <td>-0.55005</td>\n",
       "      <td>0.276290</td>\n",
       "      <td>-0.273240</td>\n",
       "      <td>0.113190</td>\n",
       "      <td>-0.776980</td>\n",
       "      <td>0.522660</td>\n",
       "      <td>-0.850620</td>\n",
       "      <td>0.440040</td>\n",
       "      <td>0.203910</td>\n",
       "      <td>-0.014462</td>\n",
       "      <td>0.002273</td>\n",
       "      <td>-0.100480</td>\n",
       "      <td>2.0</td>\n",
       "    </tr>\n",
       "    <tr>\n",
       "      <th>178</th>\n",
       "      <td>-0.78399</td>\n",
       "      <td>0.254600</td>\n",
       "      <td>-0.700990</td>\n",
       "      <td>-0.299170</td>\n",
       "      <td>-0.858330</td>\n",
       "      <td>0.210500</td>\n",
       "      <td>-0.530050</td>\n",
       "      <td>0.518550</td>\n",
       "      <td>-0.303190</td>\n",
       "      <td>0.020018</td>\n",
       "      <td>-0.020915</td>\n",
       "      <td>0.663940</td>\n",
       "      <td>1.0</td>\n",
       "    </tr>\n",
       "    <tr>\n",
       "      <th>179</th>\n",
       "      <td>0.29877</td>\n",
       "      <td>-0.179620</td>\n",
       "      <td>0.032859</td>\n",
       "      <td>-0.899010</td>\n",
       "      <td>0.540300</td>\n",
       "      <td>-0.361840</td>\n",
       "      <td>0.177900</td>\n",
       "      <td>0.713250</td>\n",
       "      <td>-0.098148</td>\n",
       "      <td>-0.411130</td>\n",
       "      <td>0.246830</td>\n",
       "      <td>-0.389160</td>\n",
       "      <td>2.0</td>\n",
       "    </tr>\n",
       "    <tr>\n",
       "      <th>180</th>\n",
       "      <td>-0.37812</td>\n",
       "      <td>-0.522870</td>\n",
       "      <td>0.215410</td>\n",
       "      <td>-0.243590</td>\n",
       "      <td>0.637840</td>\n",
       "      <td>-0.492210</td>\n",
       "      <td>-0.506930</td>\n",
       "      <td>-0.258110</td>\n",
       "      <td>-0.328990</td>\n",
       "      <td>-0.039117</td>\n",
       "      <td>0.007591</td>\n",
       "      <td>0.476030</td>\n",
       "      <td>1.0</td>\n",
       "    </tr>\n",
       "    <tr>\n",
       "      <th>181</th>\n",
       "      <td>0.37913</td>\n",
       "      <td>-0.046562</td>\n",
       "      <td>-0.123360</td>\n",
       "      <td>-0.063958</td>\n",
       "      <td>-0.109830</td>\n",
       "      <td>-0.045824</td>\n",
       "      <td>0.123800</td>\n",
       "      <td>0.496240</td>\n",
       "      <td>-0.641570</td>\n",
       "      <td>-0.242290</td>\n",
       "      <td>0.173690</td>\n",
       "      <td>0.490630</td>\n",
       "      <td>2.0</td>\n",
       "    </tr>\n",
       "  </tbody>\n",
       "</table>\n",
       "<p>182 rows × 13 columns</p>\n",
       "</div>"
      ],
      "text/plain": [
       "          0         1         2         3         4         5         6   \\\n",
       "0   -0.17936 -0.207000 -0.209710 -0.097260 -0.119210 -0.173220 -0.280760   \n",
       "1   -0.14659 -0.164940  0.249870 -0.073985  0.494940 -0.156330 -0.288910   \n",
       "2   -0.13131  0.518160  0.432810  0.397890  0.043127  0.563200 -0.013246   \n",
       "3    0.64940  0.418780  0.148350  0.333490 -0.219740  0.398910  0.590650   \n",
       "4   -0.40628  0.115030  0.073336  0.070066 -0.030920  0.152050 -0.191420   \n",
       "..       ...       ...       ...       ...       ...       ...       ...   \n",
       "177 -0.55005  0.276290 -0.273240  0.113190 -0.776980  0.522660 -0.850620   \n",
       "178 -0.78399  0.254600 -0.700990 -0.299170 -0.858330  0.210500 -0.530050   \n",
       "179  0.29877 -0.179620  0.032859 -0.899010  0.540300 -0.361840  0.177900   \n",
       "180 -0.37812 -0.522870  0.215410 -0.243590  0.637840 -0.492210 -0.506930   \n",
       "181  0.37913 -0.046562 -0.123360 -0.063958 -0.109830 -0.045824  0.123800   \n",
       "\n",
       "           7         8         9         10        11   12  \n",
       "0    0.223170  0.418660 -0.032886  0.003383 -0.334250  1.0  \n",
       "1    0.500800 -0.045553  0.050759 -0.017511  0.066959  1.0  \n",
       "2   -0.062833 -0.883390 -0.040303  0.088057  0.631200  2.0  \n",
       "3    0.077100 -1.107200 -0.367230  0.364680  0.571720  1.0  \n",
       "4   -0.580430 -0.102250  0.153750 -0.126950  0.184570  1.0  \n",
       "..        ...       ...       ...       ...       ...  ...  \n",
       "177  0.440040  0.203910 -0.014462  0.002273 -0.100480  2.0  \n",
       "178  0.518550 -0.303190  0.020018 -0.020915  0.663940  1.0  \n",
       "179  0.713250 -0.098148 -0.411130  0.246830 -0.389160  2.0  \n",
       "180 -0.258110 -0.328990 -0.039117  0.007591  0.476030  1.0  \n",
       "181  0.496240 -0.641570 -0.242290  0.173690  0.490630  2.0  \n",
       "\n",
       "[182 rows x 13 columns]"
      ]
     },
     "execution_count": 6,
     "metadata": {},
     "output_type": "execute_result"
    }
   ],
   "source": [
    "df"
   ]
  },
  {
   "cell_type": "code",
   "execution_count": 7,
   "id": "731548fb",
   "metadata": {},
   "outputs": [
    {
     "data": {
      "text/plain": [
       "array([1., 2.])"
      ]
     },
     "execution_count": 7,
     "metadata": {},
     "output_type": "execute_result"
    }
   ],
   "source": [
    "df[12].unique() #οι κλάσεις είναι 2 με τιμές 1 και 2 όπως εκτυπώνει η εντολή , binary dataset"
   ]
  },
  {
   "cell_type": "code",
   "execution_count": 8,
   "id": "de4fe9bf",
   "metadata": {},
   "outputs": [],
   "source": [
    "#υπάρχουν ετικέτες κλάσεων (1,2) και βρίσκονται στην 13η κολόνα\n",
    "\n",
    "#με την εντολή isnull δίνεται η τιμή True όπου υπάρχει κενή τιμή στο dataset, με την isnull.sum() μπορούμε να δούμε σε κάθε κολόνα\n",
    "#πόσα κενά υπάρχουν"
   ]
  },
  {
   "cell_type": "code",
   "execution_count": 9,
   "id": "1b6ec903",
   "metadata": {},
   "outputs": [
    {
     "data": {
      "text/plain": [
       "130"
      ]
     },
     "execution_count": 9,
     "metadata": {},
     "output_type": "execute_result"
    }
   ],
   "source": [
    "#με την παρακάτω εντολή μετράμε στην 13η κολόνα πόσες 1.0 τιμές υπάρχουν, άρα 130->1.0 και 52->2.0 άρα μη ισορροπημένο dataset\n",
    "df[12].value_counts()[1.0]"
   ]
  },
  {
   "cell_type": "code",
   "execution_count": 10,
   "id": "688dc03a",
   "metadata": {},
   "outputs": [],
   "source": [
    "from sklearn.model_selection import train_test_split\n",
    "X = df.drop(12,axis=1)\n",
    "y = df[12]\n",
    "X_train, X_test, y_train, y_test= train_test_split(X, y, test_size=0.3, random_state=7)\n",
    "#το random_state αν ορίσουμε έναν int τότε βγάζει κάθε φορά το ίδιο αποτέλεσμα"
   ]
  },
  {
   "cell_type": "markdown",
   "id": "40338f9d",
   "metadata": {},
   "source": [
    "Bλέπουμε ότι δεν έχουμε διαφορετικούς τύπους στο dataset, μη κατηγορικά features"
   ]
  },
  {
   "cell_type": "code",
   "execution_count": 14,
   "id": "9eac0079",
   "metadata": {},
   "outputs": [
    {
     "name": "stdout",
     "output_type": "stream",
     "text": [
      "<class 'pandas.core.frame.DataFrame'>\n",
      "RangeIndex: 182 entries, 0 to 181\n",
      "Data columns (total 13 columns):\n",
      " #   Column  Non-Null Count  Dtype  \n",
      "---  ------  --------------  -----  \n",
      " 0   0       182 non-null    float64\n",
      " 1   1       182 non-null    float64\n",
      " 2   2       182 non-null    float64\n",
      " 3   3       182 non-null    float64\n",
      " 4   4       182 non-null    float64\n",
      " 5   5       182 non-null    float64\n",
      " 6   6       182 non-null    float64\n",
      " 7   7       182 non-null    float64\n",
      " 8   8       182 non-null    float64\n",
      " 9   9       182 non-null    float64\n",
      " 10  10      182 non-null    float64\n",
      " 11  11      182 non-null    float64\n",
      " 12  12      182 non-null    float64\n",
      "dtypes: float64(13)\n",
      "memory usage: 18.6 KB\n"
     ]
    }
   ],
   "source": [
    "df.info()"
   ]
  },
  {
   "cell_type": "code",
   "execution_count": 18,
   "id": "62fdd555",
   "metadata": {},
   "outputs": [
    {
     "data": {
      "text/html": [
       "<div>\n",
       "<style scoped>\n",
       "    .dataframe tbody tr th:only-of-type {\n",
       "        vertical-align: middle;\n",
       "    }\n",
       "\n",
       "    .dataframe tbody tr th {\n",
       "        vertical-align: top;\n",
       "    }\n",
       "\n",
       "    .dataframe thead th {\n",
       "        text-align: right;\n",
       "    }\n",
       "</style>\n",
       "<table border=\"1\" class=\"dataframe\">\n",
       "  <thead>\n",
       "    <tr style=\"text-align: right;\">\n",
       "      <th></th>\n",
       "      <th>0</th>\n",
       "      <th>1</th>\n",
       "      <th>2</th>\n",
       "      <th>3</th>\n",
       "      <th>4</th>\n",
       "      <th>5</th>\n",
       "      <th>6</th>\n",
       "      <th>7</th>\n",
       "      <th>8</th>\n",
       "      <th>9</th>\n",
       "      <th>10</th>\n",
       "      <th>11</th>\n",
       "    </tr>\n",
       "  </thead>\n",
       "  <tbody>\n",
       "    <tr>\n",
       "      <th>88</th>\n",
       "      <td>-0.51497</td>\n",
       "      <td>0.086820</td>\n",
       "      <td>-0.38881</td>\n",
       "      <td>-0.642840</td>\n",
       "      <td>-0.385620</td>\n",
       "      <td>0.091563</td>\n",
       "      <td>-0.49810</td>\n",
       "      <td>0.266240</td>\n",
       "      <td>-0.31386</td>\n",
       "      <td>-0.320630</td>\n",
       "      <td>0.25756</td>\n",
       "      <td>0.069917</td>\n",
       "    </tr>\n",
       "    <tr>\n",
       "      <th>108</th>\n",
       "      <td>-0.67868</td>\n",
       "      <td>-0.036783</td>\n",
       "      <td>-0.18601</td>\n",
       "      <td>0.138750</td>\n",
       "      <td>-0.384030</td>\n",
       "      <td>0.130800</td>\n",
       "      <td>-0.67209</td>\n",
       "      <td>-0.440930</td>\n",
       "      <td>-0.41634</td>\n",
       "      <td>-0.227180</td>\n",
       "      <td>0.21027</td>\n",
       "      <td>0.145960</td>\n",
       "    </tr>\n",
       "    <tr>\n",
       "      <th>49</th>\n",
       "      <td>0.45852</td>\n",
       "      <td>0.006691</td>\n",
       "      <td>0.50555</td>\n",
       "      <td>0.272890</td>\n",
       "      <td>0.506470</td>\n",
       "      <td>0.059486</td>\n",
       "      <td>0.21157</td>\n",
       "      <td>0.289140</td>\n",
       "      <td>-0.59538</td>\n",
       "      <td>-0.343080</td>\n",
       "      <td>0.31344</td>\n",
       "      <td>0.191000</td>\n",
       "    </tr>\n",
       "    <tr>\n",
       "      <th>141</th>\n",
       "      <td>0.72065</td>\n",
       "      <td>0.303740</td>\n",
       "      <td>-0.12744</td>\n",
       "      <td>0.070148</td>\n",
       "      <td>-0.381140</td>\n",
       "      <td>0.215820</td>\n",
       "      <td>0.78517</td>\n",
       "      <td>-0.128190</td>\n",
       "      <td>0.24596</td>\n",
       "      <td>0.267660</td>\n",
       "      <td>-0.26945</td>\n",
       "      <td>0.059474</td>\n",
       "    </tr>\n",
       "    <tr>\n",
       "      <th>46</th>\n",
       "      <td>0.64167</td>\n",
       "      <td>-0.049042</td>\n",
       "      <td>-0.13654</td>\n",
       "      <td>-0.214360</td>\n",
       "      <td>-0.033905</td>\n",
       "      <td>-0.136460</td>\n",
       "      <td>0.45926</td>\n",
       "      <td>0.472840</td>\n",
       "      <td>-0.47449</td>\n",
       "      <td>-0.435890</td>\n",
       "      <td>0.35164</td>\n",
       "      <td>0.114280</td>\n",
       "    </tr>\n",
       "    <tr>\n",
       "      <th>...</th>\n",
       "      <td>...</td>\n",
       "      <td>...</td>\n",
       "      <td>...</td>\n",
       "      <td>...</td>\n",
       "      <td>...</td>\n",
       "      <td>...</td>\n",
       "      <td>...</td>\n",
       "      <td>...</td>\n",
       "      <td>...</td>\n",
       "      <td>...</td>\n",
       "      <td>...</td>\n",
       "      <td>...</td>\n",
       "    </tr>\n",
       "    <tr>\n",
       "      <th>103</th>\n",
       "      <td>-0.48175</td>\n",
       "      <td>0.343580</td>\n",
       "      <td>-0.62436</td>\n",
       "      <td>-0.754350</td>\n",
       "      <td>-0.808380</td>\n",
       "      <td>0.280180</td>\n",
       "      <td>-0.23729</td>\n",
       "      <td>-0.101630</td>\n",
       "      <td>0.88105</td>\n",
       "      <td>0.774080</td>\n",
       "      <td>-0.67198</td>\n",
       "      <td>-0.139670</td>\n",
       "    </tr>\n",
       "    <tr>\n",
       "      <th>151</th>\n",
       "      <td>0.73630</td>\n",
       "      <td>-0.339600</td>\n",
       "      <td>-0.21098</td>\n",
       "      <td>0.048958</td>\n",
       "      <td>-0.056706</td>\n",
       "      <td>-0.388190</td>\n",
       "      <td>0.59417</td>\n",
       "      <td>-0.058747</td>\n",
       "      <td>-0.14397</td>\n",
       "      <td>-0.216050</td>\n",
       "      <td>0.18223</td>\n",
       "      <td>-0.086619</td>\n",
       "    </tr>\n",
       "    <tr>\n",
       "      <th>67</th>\n",
       "      <td>-0.71551</td>\n",
       "      <td>0.231020</td>\n",
       "      <td>0.24042</td>\n",
       "      <td>0.229220</td>\n",
       "      <td>-0.039318</td>\n",
       "      <td>0.391940</td>\n",
       "      <td>-0.61702</td>\n",
       "      <td>-0.476850</td>\n",
       "      <td>0.34128</td>\n",
       "      <td>0.092268</td>\n",
       "      <td>-0.11170</td>\n",
       "      <td>-0.141090</td>\n",
       "    </tr>\n",
       "    <tr>\n",
       "      <th>25</th>\n",
       "      <td>0.37767</td>\n",
       "      <td>-0.274700</td>\n",
       "      <td>-0.14337</td>\n",
       "      <td>-0.339850</td>\n",
       "      <td>0.162170</td>\n",
       "      <td>-0.345240</td>\n",
       "      <td>0.24310</td>\n",
       "      <td>0.161930</td>\n",
       "      <td>0.75394</td>\n",
       "      <td>0.304570</td>\n",
       "      <td>-0.27613</td>\n",
       "      <td>-0.330970</td>\n",
       "    </tr>\n",
       "    <tr>\n",
       "      <th>175</th>\n",
       "      <td>0.45717</td>\n",
       "      <td>-0.084912</td>\n",
       "      <td>0.26939</td>\n",
       "      <td>-0.234860</td>\n",
       "      <td>0.559980</td>\n",
       "      <td>-0.232410</td>\n",
       "      <td>0.60834</td>\n",
       "      <td>-0.218760</td>\n",
       "      <td>0.50563</td>\n",
       "      <td>0.280070</td>\n",
       "      <td>-0.18974</td>\n",
       "      <td>-0.197850</td>\n",
       "    </tr>\n",
       "  </tbody>\n",
       "</table>\n",
       "<p>127 rows × 12 columns</p>\n",
       "</div>"
      ],
      "text/plain": [
       "          0         1        2         3         4         5        6   \\\n",
       "88  -0.51497  0.086820 -0.38881 -0.642840 -0.385620  0.091563 -0.49810   \n",
       "108 -0.67868 -0.036783 -0.18601  0.138750 -0.384030  0.130800 -0.67209   \n",
       "49   0.45852  0.006691  0.50555  0.272890  0.506470  0.059486  0.21157   \n",
       "141  0.72065  0.303740 -0.12744  0.070148 -0.381140  0.215820  0.78517   \n",
       "46   0.64167 -0.049042 -0.13654 -0.214360 -0.033905 -0.136460  0.45926   \n",
       "..       ...       ...      ...       ...       ...       ...      ...   \n",
       "103 -0.48175  0.343580 -0.62436 -0.754350 -0.808380  0.280180 -0.23729   \n",
       "151  0.73630 -0.339600 -0.21098  0.048958 -0.056706 -0.388190  0.59417   \n",
       "67  -0.71551  0.231020  0.24042  0.229220 -0.039318  0.391940 -0.61702   \n",
       "25   0.37767 -0.274700 -0.14337 -0.339850  0.162170 -0.345240  0.24310   \n",
       "175  0.45717 -0.084912  0.26939 -0.234860  0.559980 -0.232410  0.60834   \n",
       "\n",
       "           7        8         9        10        11  \n",
       "88   0.266240 -0.31386 -0.320630  0.25756  0.069917  \n",
       "108 -0.440930 -0.41634 -0.227180  0.21027  0.145960  \n",
       "49   0.289140 -0.59538 -0.343080  0.31344  0.191000  \n",
       "141 -0.128190  0.24596  0.267660 -0.26945  0.059474  \n",
       "46   0.472840 -0.47449 -0.435890  0.35164  0.114280  \n",
       "..        ...      ...       ...      ...       ...  \n",
       "103 -0.101630  0.88105  0.774080 -0.67198 -0.139670  \n",
       "151 -0.058747 -0.14397 -0.216050  0.18223 -0.086619  \n",
       "67  -0.476850  0.34128  0.092268 -0.11170 -0.141090  \n",
       "25   0.161930  0.75394  0.304570 -0.27613 -0.330970  \n",
       "175 -0.218760  0.50563  0.280070 -0.18974 -0.197850  \n",
       "\n",
       "[127 rows x 12 columns]"
      ]
     },
     "execution_count": 18,
     "metadata": {},
     "output_type": "execute_result"
    }
   ],
   "source": [
    "X_train"
   ]
  },
  {
   "cell_type": "markdown",
   "id": "c098b47e",
   "metadata": {},
   "source": [
    "# Ταξινόμηση "
   ]
  },
  {
   "cell_type": "markdown",
   "id": "1f1a8bc7",
   "metadata": {},
   "source": [
    "### Για τον ταξινομητή Dummy"
   ]
  },
  {
   "cell_type": "code",
   "execution_count": 31,
   "id": "64ec22f0",
   "metadata": {},
   "outputs": [
    {
     "data": {
      "text/html": [
       "<style>#sk-container-id-4 {color: black;background-color: white;}#sk-container-id-4 pre{padding: 0;}#sk-container-id-4 div.sk-toggleable {background-color: white;}#sk-container-id-4 label.sk-toggleable__label {cursor: pointer;display: block;width: 100%;margin-bottom: 0;padding: 0.3em;box-sizing: border-box;text-align: center;}#sk-container-id-4 label.sk-toggleable__label-arrow:before {content: \"▸\";float: left;margin-right: 0.25em;color: #696969;}#sk-container-id-4 label.sk-toggleable__label-arrow:hover:before {color: black;}#sk-container-id-4 div.sk-estimator:hover label.sk-toggleable__label-arrow:before {color: black;}#sk-container-id-4 div.sk-toggleable__content {max-height: 0;max-width: 0;overflow: hidden;text-align: left;background-color: #f0f8ff;}#sk-container-id-4 div.sk-toggleable__content pre {margin: 0.2em;color: black;border-radius: 0.25em;background-color: #f0f8ff;}#sk-container-id-4 input.sk-toggleable__control:checked~div.sk-toggleable__content {max-height: 200px;max-width: 100%;overflow: auto;}#sk-container-id-4 input.sk-toggleable__control:checked~label.sk-toggleable__label-arrow:before {content: \"▾\";}#sk-container-id-4 div.sk-estimator input.sk-toggleable__control:checked~label.sk-toggleable__label {background-color: #d4ebff;}#sk-container-id-4 div.sk-label input.sk-toggleable__control:checked~label.sk-toggleable__label {background-color: #d4ebff;}#sk-container-id-4 input.sk-hidden--visually {border: 0;clip: rect(1px 1px 1px 1px);clip: rect(1px, 1px, 1px, 1px);height: 1px;margin: -1px;overflow: hidden;padding: 0;position: absolute;width: 1px;}#sk-container-id-4 div.sk-estimator {font-family: monospace;background-color: #f0f8ff;border: 1px dotted black;border-radius: 0.25em;box-sizing: border-box;margin-bottom: 0.5em;}#sk-container-id-4 div.sk-estimator:hover {background-color: #d4ebff;}#sk-container-id-4 div.sk-parallel-item::after {content: \"\";width: 100%;border-bottom: 1px solid gray;flex-grow: 1;}#sk-container-id-4 div.sk-label:hover label.sk-toggleable__label {background-color: #d4ebff;}#sk-container-id-4 div.sk-serial::before {content: \"\";position: absolute;border-left: 1px solid gray;box-sizing: border-box;top: 0;bottom: 0;left: 50%;z-index: 0;}#sk-container-id-4 div.sk-serial {display: flex;flex-direction: column;align-items: center;background-color: white;padding-right: 0.2em;padding-left: 0.2em;position: relative;}#sk-container-id-4 div.sk-item {position: relative;z-index: 1;}#sk-container-id-4 div.sk-parallel {display: flex;align-items: stretch;justify-content: center;background-color: white;position: relative;}#sk-container-id-4 div.sk-item::before, #sk-container-id-4 div.sk-parallel-item::before {content: \"\";position: absolute;border-left: 1px solid gray;box-sizing: border-box;top: 0;bottom: 0;left: 50%;z-index: -1;}#sk-container-id-4 div.sk-parallel-item {display: flex;flex-direction: column;z-index: 1;position: relative;background-color: white;}#sk-container-id-4 div.sk-parallel-item:first-child::after {align-self: flex-end;width: 50%;}#sk-container-id-4 div.sk-parallel-item:last-child::after {align-self: flex-start;width: 50%;}#sk-container-id-4 div.sk-parallel-item:only-child::after {width: 0;}#sk-container-id-4 div.sk-dashed-wrapped {border: 1px dashed gray;margin: 0 0.4em 0.5em 0.4em;box-sizing: border-box;padding-bottom: 0.4em;background-color: white;}#sk-container-id-4 div.sk-label label {font-family: monospace;font-weight: bold;display: inline-block;line-height: 1.2em;}#sk-container-id-4 div.sk-label-container {text-align: center;}#sk-container-id-4 div.sk-container {/* jupyter's `normalize.less` sets `[hidden] { display: none; }` but bootstrap.min.css set `[hidden] { display: none !important; }` so we also need the `!important` here to be able to override the default hidden behavior on the sphinx rendered scikit-learn.org. See: https://github.com/scikit-learn/scikit-learn/issues/21755 */display: inline-block !important;position: relative;}#sk-container-id-4 div.sk-text-repr-fallback {display: none;}</style><div id=\"sk-container-id-4\" class=\"sk-top-container\"><div class=\"sk-text-repr-fallback\"><pre>DummyClassifier()</pre><b>In a Jupyter environment, please rerun this cell to show the HTML representation or trust the notebook. <br />On GitHub, the HTML representation is unable to render, please try loading this page with nbviewer.org.</b></div><div class=\"sk-container\" hidden><div class=\"sk-item\"><div class=\"sk-estimator sk-toggleable\"><input class=\"sk-toggleable__control sk-hidden--visually\" id=\"sk-estimator-id-4\" type=\"checkbox\" checked><label for=\"sk-estimator-id-4\" class=\"sk-toggleable__label sk-toggleable__label-arrow\">DummyClassifier</label><div class=\"sk-toggleable__content\"><pre>DummyClassifier()</pre></div></div></div></div></div>"
      ],
      "text/plain": [
       "DummyClassifier()"
      ]
     },
     "execution_count": 31,
     "metadata": {},
     "output_type": "execute_result"
    }
   ],
   "source": [
    "from sklearn.dummy import DummyClassifier\n",
    "dummy = DummyClassifier()\n",
    "dummy.fit(X_train, y_train)"
   ]
  },
  {
   "cell_type": "code",
   "execution_count": 35,
   "id": "092f1825",
   "metadata": {},
   "outputs": [
    {
     "data": {
      "text/plain": [
       "0.7272727272727273"
      ]
     },
     "execution_count": 35,
     "metadata": {},
     "output_type": "execute_result"
    }
   ],
   "source": [
    "y_pred = dummy.predict(X_test)\n",
    "accuracy_score(y_test,y_pred)"
   ]
  },
  {
   "cell_type": "code",
   "execution_count": 36,
   "id": "74709285",
   "metadata": {},
   "outputs": [
    {
     "data": {
      "text/plain": [
       "0.8421052631578948"
      ]
     },
     "execution_count": 36,
     "metadata": {},
     "output_type": "execute_result"
    }
   ],
   "source": [
    "f1_score(y_test, y_pred, average='binary')"
   ]
  },
  {
   "cell_type": "markdown",
   "id": "bc0e9a44",
   "metadata": {},
   "source": [
    "### Για την μέθοδο Gaussian Naive Bayes (GNB)"
   ]
  },
  {
   "cell_type": "code",
   "execution_count": null,
   "id": "d25a349b",
   "metadata": {},
   "outputs": [],
   "source": [
    "import matplotlib.pyplot as plt\n",
    "from sklearn.naive_bayes import GaussianNB\n",
    "NBModel=GaussianNB()\n",
    "NBModel.fit(X_train,y_train)"
   ]
  },
  {
   "cell_type": "code",
   "execution_count": 12,
   "id": "74cbbe1d",
   "metadata": {},
   "outputs": [
    {
     "data": {
      "text/plain": [
       "0.5636363636363636"
      ]
     },
     "execution_count": 12,
     "metadata": {},
     "output_type": "execute_result"
    }
   ],
   "source": [
    "y_pred = NBModel.predict(X_test)\n",
    "from sklearn.metrics import accuracy_score\n",
    "accuracy_score(y_test, y_pred)"
   ]
  },
  {
   "cell_type": "code",
   "execution_count": 13,
   "id": "2d88f178",
   "metadata": {},
   "outputs": [
    {
     "data": {
      "text/plain": [
       "0.7"
      ]
     },
     "execution_count": 13,
     "metadata": {},
     "output_type": "execute_result"
    }
   ],
   "source": [
    "from sklearn.metrics import f1_score\n",
    "f1_score(y_test, y_pred, average='binary')"
   ]
  },
  {
   "cell_type": "markdown",
   "id": "c3f87a75",
   "metadata": {},
   "source": [
    "### Για το KNN model"
   ]
  },
  {
   "cell_type": "code",
   "execution_count": 17,
   "id": "b83d3a96",
   "metadata": {},
   "outputs": [
    {
     "data": {
      "text/html": [
       "<style>#sk-container-id-2 {color: black;background-color: white;}#sk-container-id-2 pre{padding: 0;}#sk-container-id-2 div.sk-toggleable {background-color: white;}#sk-container-id-2 label.sk-toggleable__label {cursor: pointer;display: block;width: 100%;margin-bottom: 0;padding: 0.3em;box-sizing: border-box;text-align: center;}#sk-container-id-2 label.sk-toggleable__label-arrow:before {content: \"▸\";float: left;margin-right: 0.25em;color: #696969;}#sk-container-id-2 label.sk-toggleable__label-arrow:hover:before {color: black;}#sk-container-id-2 div.sk-estimator:hover label.sk-toggleable__label-arrow:before {color: black;}#sk-container-id-2 div.sk-toggleable__content {max-height: 0;max-width: 0;overflow: hidden;text-align: left;background-color: #f0f8ff;}#sk-container-id-2 div.sk-toggleable__content pre {margin: 0.2em;color: black;border-radius: 0.25em;background-color: #f0f8ff;}#sk-container-id-2 input.sk-toggleable__control:checked~div.sk-toggleable__content {max-height: 200px;max-width: 100%;overflow: auto;}#sk-container-id-2 input.sk-toggleable__control:checked~label.sk-toggleable__label-arrow:before {content: \"▾\";}#sk-container-id-2 div.sk-estimator input.sk-toggleable__control:checked~label.sk-toggleable__label {background-color: #d4ebff;}#sk-container-id-2 div.sk-label input.sk-toggleable__control:checked~label.sk-toggleable__label {background-color: #d4ebff;}#sk-container-id-2 input.sk-hidden--visually {border: 0;clip: rect(1px 1px 1px 1px);clip: rect(1px, 1px, 1px, 1px);height: 1px;margin: -1px;overflow: hidden;padding: 0;position: absolute;width: 1px;}#sk-container-id-2 div.sk-estimator {font-family: monospace;background-color: #f0f8ff;border: 1px dotted black;border-radius: 0.25em;box-sizing: border-box;margin-bottom: 0.5em;}#sk-container-id-2 div.sk-estimator:hover {background-color: #d4ebff;}#sk-container-id-2 div.sk-parallel-item::after {content: \"\";width: 100%;border-bottom: 1px solid gray;flex-grow: 1;}#sk-container-id-2 div.sk-label:hover label.sk-toggleable__label {background-color: #d4ebff;}#sk-container-id-2 div.sk-serial::before {content: \"\";position: absolute;border-left: 1px solid gray;box-sizing: border-box;top: 0;bottom: 0;left: 50%;z-index: 0;}#sk-container-id-2 div.sk-serial {display: flex;flex-direction: column;align-items: center;background-color: white;padding-right: 0.2em;padding-left: 0.2em;position: relative;}#sk-container-id-2 div.sk-item {position: relative;z-index: 1;}#sk-container-id-2 div.sk-parallel {display: flex;align-items: stretch;justify-content: center;background-color: white;position: relative;}#sk-container-id-2 div.sk-item::before, #sk-container-id-2 div.sk-parallel-item::before {content: \"\";position: absolute;border-left: 1px solid gray;box-sizing: border-box;top: 0;bottom: 0;left: 50%;z-index: -1;}#sk-container-id-2 div.sk-parallel-item {display: flex;flex-direction: column;z-index: 1;position: relative;background-color: white;}#sk-container-id-2 div.sk-parallel-item:first-child::after {align-self: flex-end;width: 50%;}#sk-container-id-2 div.sk-parallel-item:last-child::after {align-self: flex-start;width: 50%;}#sk-container-id-2 div.sk-parallel-item:only-child::after {width: 0;}#sk-container-id-2 div.sk-dashed-wrapped {border: 1px dashed gray;margin: 0 0.4em 0.5em 0.4em;box-sizing: border-box;padding-bottom: 0.4em;background-color: white;}#sk-container-id-2 div.sk-label label {font-family: monospace;font-weight: bold;display: inline-block;line-height: 1.2em;}#sk-container-id-2 div.sk-label-container {text-align: center;}#sk-container-id-2 div.sk-container {/* jupyter's `normalize.less` sets `[hidden] { display: none; }` but bootstrap.min.css set `[hidden] { display: none !important; }` so we also need the `!important` here to be able to override the default hidden behavior on the sphinx rendered scikit-learn.org. See: https://github.com/scikit-learn/scikit-learn/issues/21755 */display: inline-block !important;position: relative;}#sk-container-id-2 div.sk-text-repr-fallback {display: none;}</style><div id=\"sk-container-id-2\" class=\"sk-top-container\"><div class=\"sk-text-repr-fallback\"><pre>KNeighborsClassifier()</pre><b>In a Jupyter environment, please rerun this cell to show the HTML representation or trust the notebook. <br />On GitHub, the HTML representation is unable to render, please try loading this page with nbviewer.org.</b></div><div class=\"sk-container\" hidden><div class=\"sk-item\"><div class=\"sk-estimator sk-toggleable\"><input class=\"sk-toggleable__control sk-hidden--visually\" id=\"sk-estimator-id-2\" type=\"checkbox\" checked><label for=\"sk-estimator-id-2\" class=\"sk-toggleable__label sk-toggleable__label-arrow\">KNeighborsClassifier</label><div class=\"sk-toggleable__content\"><pre>KNeighborsClassifier()</pre></div></div></div></div></div>"
      ],
      "text/plain": [
       "KNeighborsClassifier()"
      ]
     },
     "execution_count": 17,
     "metadata": {},
     "output_type": "execute_result"
    }
   ],
   "source": [
    "from sklearn.neighbors import KNeighborsClassifier\n",
    "neigh = KNeighborsClassifier()\n",
    "neigh.fit(X_train,y_train)"
   ]
  },
  {
   "cell_type": "code",
   "execution_count": 19,
   "id": "0923589a",
   "metadata": {},
   "outputs": [
    {
     "data": {
      "text/plain": [
       "0.6545454545454545"
      ]
     },
     "execution_count": 19,
     "metadata": {},
     "output_type": "execute_result"
    }
   ],
   "source": [
    "y_pred = neigh.predict(X_test)\n",
    "accuracy_score(y_test, y_pred)"
   ]
  },
  {
   "cell_type": "code",
   "execution_count": 20,
   "id": "fc291e76",
   "metadata": {},
   "outputs": [
    {
     "data": {
      "text/plain": [
       "0.7912087912087913"
      ]
     },
     "execution_count": 20,
     "metadata": {},
     "output_type": "execute_result"
    }
   ],
   "source": [
    "f1_score(y_test, y_pred, average='binary')"
   ]
  },
  {
   "cell_type": "markdown",
   "id": "f48f4d06",
   "metadata": {},
   "source": [
    "### Για το LR"
   ]
  },
  {
   "cell_type": "code",
   "execution_count": 26,
   "id": "bd27945a",
   "metadata": {},
   "outputs": [
    {
     "data": {
      "text/html": [
       "<style>#sk-container-id-3 {color: black;background-color: white;}#sk-container-id-3 pre{padding: 0;}#sk-container-id-3 div.sk-toggleable {background-color: white;}#sk-container-id-3 label.sk-toggleable__label {cursor: pointer;display: block;width: 100%;margin-bottom: 0;padding: 0.3em;box-sizing: border-box;text-align: center;}#sk-container-id-3 label.sk-toggleable__label-arrow:before {content: \"▸\";float: left;margin-right: 0.25em;color: #696969;}#sk-container-id-3 label.sk-toggleable__label-arrow:hover:before {color: black;}#sk-container-id-3 div.sk-estimator:hover label.sk-toggleable__label-arrow:before {color: black;}#sk-container-id-3 div.sk-toggleable__content {max-height: 0;max-width: 0;overflow: hidden;text-align: left;background-color: #f0f8ff;}#sk-container-id-3 div.sk-toggleable__content pre {margin: 0.2em;color: black;border-radius: 0.25em;background-color: #f0f8ff;}#sk-container-id-3 input.sk-toggleable__control:checked~div.sk-toggleable__content {max-height: 200px;max-width: 100%;overflow: auto;}#sk-container-id-3 input.sk-toggleable__control:checked~label.sk-toggleable__label-arrow:before {content: \"▾\";}#sk-container-id-3 div.sk-estimator input.sk-toggleable__control:checked~label.sk-toggleable__label {background-color: #d4ebff;}#sk-container-id-3 div.sk-label input.sk-toggleable__control:checked~label.sk-toggleable__label {background-color: #d4ebff;}#sk-container-id-3 input.sk-hidden--visually {border: 0;clip: rect(1px 1px 1px 1px);clip: rect(1px, 1px, 1px, 1px);height: 1px;margin: -1px;overflow: hidden;padding: 0;position: absolute;width: 1px;}#sk-container-id-3 div.sk-estimator {font-family: monospace;background-color: #f0f8ff;border: 1px dotted black;border-radius: 0.25em;box-sizing: border-box;margin-bottom: 0.5em;}#sk-container-id-3 div.sk-estimator:hover {background-color: #d4ebff;}#sk-container-id-3 div.sk-parallel-item::after {content: \"\";width: 100%;border-bottom: 1px solid gray;flex-grow: 1;}#sk-container-id-3 div.sk-label:hover label.sk-toggleable__label {background-color: #d4ebff;}#sk-container-id-3 div.sk-serial::before {content: \"\";position: absolute;border-left: 1px solid gray;box-sizing: border-box;top: 0;bottom: 0;left: 50%;z-index: 0;}#sk-container-id-3 div.sk-serial {display: flex;flex-direction: column;align-items: center;background-color: white;padding-right: 0.2em;padding-left: 0.2em;position: relative;}#sk-container-id-3 div.sk-item {position: relative;z-index: 1;}#sk-container-id-3 div.sk-parallel {display: flex;align-items: stretch;justify-content: center;background-color: white;position: relative;}#sk-container-id-3 div.sk-item::before, #sk-container-id-3 div.sk-parallel-item::before {content: \"\";position: absolute;border-left: 1px solid gray;box-sizing: border-box;top: 0;bottom: 0;left: 50%;z-index: -1;}#sk-container-id-3 div.sk-parallel-item {display: flex;flex-direction: column;z-index: 1;position: relative;background-color: white;}#sk-container-id-3 div.sk-parallel-item:first-child::after {align-self: flex-end;width: 50%;}#sk-container-id-3 div.sk-parallel-item:last-child::after {align-self: flex-start;width: 50%;}#sk-container-id-3 div.sk-parallel-item:only-child::after {width: 0;}#sk-container-id-3 div.sk-dashed-wrapped {border: 1px dashed gray;margin: 0 0.4em 0.5em 0.4em;box-sizing: border-box;padding-bottom: 0.4em;background-color: white;}#sk-container-id-3 div.sk-label label {font-family: monospace;font-weight: bold;display: inline-block;line-height: 1.2em;}#sk-container-id-3 div.sk-label-container {text-align: center;}#sk-container-id-3 div.sk-container {/* jupyter's `normalize.less` sets `[hidden] { display: none; }` but bootstrap.min.css set `[hidden] { display: none !important; }` so we also need the `!important` here to be able to override the default hidden behavior on the sphinx rendered scikit-learn.org. See: https://github.com/scikit-learn/scikit-learn/issues/21755 */display: inline-block !important;position: relative;}#sk-container-id-3 div.sk-text-repr-fallback {display: none;}</style><div id=\"sk-container-id-3\" class=\"sk-top-container\"><div class=\"sk-text-repr-fallback\"><pre>LogisticRegression()</pre><b>In a Jupyter environment, please rerun this cell to show the HTML representation or trust the notebook. <br />On GitHub, the HTML representation is unable to render, please try loading this page with nbviewer.org.</b></div><div class=\"sk-container\" hidden><div class=\"sk-item\"><div class=\"sk-estimator sk-toggleable\"><input class=\"sk-toggleable__control sk-hidden--visually\" id=\"sk-estimator-id-3\" type=\"checkbox\" checked><label for=\"sk-estimator-id-3\" class=\"sk-toggleable__label sk-toggleable__label-arrow\">LogisticRegression</label><div class=\"sk-toggleable__content\"><pre>LogisticRegression()</pre></div></div></div></div></div>"
      ],
      "text/plain": [
       "LogisticRegression()"
      ]
     },
     "execution_count": 26,
     "metadata": {},
     "output_type": "execute_result"
    }
   ],
   "source": [
    "from sklearn.linear_model import LogisticRegression\n",
    "lr = LogisticRegression()\n",
    "lr.fit(X_train, y_train)"
   ]
  },
  {
   "cell_type": "code",
   "execution_count": 27,
   "id": "386eb99a",
   "metadata": {},
   "outputs": [
    {
     "data": {
      "text/plain": [
       "0.7090909090909091"
      ]
     },
     "execution_count": 27,
     "metadata": {},
     "output_type": "execute_result"
    }
   ],
   "source": [
    "y_pred = lr.predict(X_test)\n",
    "accuracy_score(y_test, y_pred)"
   ]
  },
  {
   "cell_type": "code",
   "execution_count": 28,
   "id": "9086b805",
   "metadata": {},
   "outputs": [
    {
     "data": {
      "text/plain": [
       "0.8297872340425532"
      ]
     },
     "execution_count": 28,
     "metadata": {},
     "output_type": "execute_result"
    }
   ],
   "source": [
    "f1_score(y_test, y_pred, average='binary')"
   ]
  }
 ],
 "metadata": {
  "kernelspec": {
   "display_name": "Python 3 (ipykernel)",
   "language": "python",
   "name": "python3"
  },
  "language_info": {
   "codemirror_mode": {
    "name": "ipython",
    "version": 3
   },
   "file_extension": ".py",
   "mimetype": "text/x-python",
   "name": "python",
   "nbconvert_exporter": "python",
   "pygments_lexer": "ipython3",
   "version": "3.9.13"
  },
  "vscode": {
   "interpreter": {
    "hash": "477658b0479997c5b774e7f7b430cda8b5016cdd3b14a8bfd3d6f63ea0e21e85"
   }
  }
 },
 "nbformat": 4,
 "nbformat_minor": 5
}
