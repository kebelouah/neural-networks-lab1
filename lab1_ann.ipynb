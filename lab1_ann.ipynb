{
 "cells": [
  {
   "cell_type": "code",
   "execution_count": 2,
   "id": "32aca1a9",
   "metadata": {},
   "outputs": [],
   "source": [
    "import pandas as pd"
   ]
  },
  {
   "cell_type": "code",
   "execution_count": 3,
   "id": "7a4dabd3",
   "metadata": {},
   "outputs": [],
   "source": [
    "import numpy as np "
   ]
  },
  {
   "cell_type": "markdown",
   "id": "a98eeff8",
   "metadata": {},
   "source": [
    "# Εισαγωγή και επισκόπηση\n",
    "The dataset concerns with the classification of two mental stages from recorded EEG signals: Planning (during imagination of motor act) and Relax state."
   ]
  },
  {
   "cell_type": "code",
   "execution_count": 4,
   "id": "776bc277",
   "metadata": {},
   "outputs": [
    {
     "data": {
      "text/html": [
       "<div>\n",
       "<style scoped>\n",
       "    .dataframe tbody tr th:only-of-type {\n",
       "        vertical-align: middle;\n",
       "    }\n",
       "\n",
       "    .dataframe tbody tr th {\n",
       "        vertical-align: top;\n",
       "    }\n",
       "\n",
       "    .dataframe thead th {\n",
       "        text-align: right;\n",
       "    }\n",
       "</style>\n",
       "<table border=\"1\" class=\"dataframe\">\n",
       "  <thead>\n",
       "    <tr style=\"text-align: right;\">\n",
       "      <th></th>\n",
       "      <th>0</th>\n",
       "      <th>1</th>\n",
       "      <th>2</th>\n",
       "      <th>3</th>\n",
       "      <th>4</th>\n",
       "      <th>5</th>\n",
       "      <th>6</th>\n",
       "      <th>7</th>\n",
       "      <th>8</th>\n",
       "      <th>9</th>\n",
       "      <th>10</th>\n",
       "      <th>11</th>\n",
       "      <th>12</th>\n",
       "      <th>13</th>\n",
       "    </tr>\n",
       "  </thead>\n",
       "  <tbody>\n",
       "    <tr>\n",
       "      <th>0</th>\n",
       "      <td>-0.17936</td>\n",
       "      <td>-0.207000</td>\n",
       "      <td>-0.209710</td>\n",
       "      <td>-0.097260</td>\n",
       "      <td>-0.119210</td>\n",
       "      <td>-0.173220</td>\n",
       "      <td>-0.280760</td>\n",
       "      <td>0.223170</td>\n",
       "      <td>0.418660</td>\n",
       "      <td>-0.032886</td>\n",
       "      <td>0.003383</td>\n",
       "      <td>-0.334250</td>\n",
       "      <td>1.0</td>\n",
       "      <td>NaN</td>\n",
       "    </tr>\n",
       "    <tr>\n",
       "      <th>1</th>\n",
       "      <td>-0.14659</td>\n",
       "      <td>-0.164940</td>\n",
       "      <td>0.249870</td>\n",
       "      <td>-0.073985</td>\n",
       "      <td>0.494940</td>\n",
       "      <td>-0.156330</td>\n",
       "      <td>-0.288910</td>\n",
       "      <td>0.500800</td>\n",
       "      <td>-0.045553</td>\n",
       "      <td>0.050759</td>\n",
       "      <td>-0.017511</td>\n",
       "      <td>0.066959</td>\n",
       "      <td>1.0</td>\n",
       "      <td>NaN</td>\n",
       "    </tr>\n",
       "    <tr>\n",
       "      <th>2</th>\n",
       "      <td>-0.13131</td>\n",
       "      <td>0.518160</td>\n",
       "      <td>0.432810</td>\n",
       "      <td>0.397890</td>\n",
       "      <td>0.043127</td>\n",
       "      <td>0.563200</td>\n",
       "      <td>-0.013246</td>\n",
       "      <td>-0.062833</td>\n",
       "      <td>-0.883390</td>\n",
       "      <td>-0.040303</td>\n",
       "      <td>0.088057</td>\n",
       "      <td>0.631200</td>\n",
       "      <td>2.0</td>\n",
       "      <td>NaN</td>\n",
       "    </tr>\n",
       "    <tr>\n",
       "      <th>3</th>\n",
       "      <td>0.64940</td>\n",
       "      <td>0.418780</td>\n",
       "      <td>0.148350</td>\n",
       "      <td>0.333490</td>\n",
       "      <td>-0.219740</td>\n",
       "      <td>0.398910</td>\n",
       "      <td>0.590650</td>\n",
       "      <td>0.077100</td>\n",
       "      <td>-1.107200</td>\n",
       "      <td>-0.367230</td>\n",
       "      <td>0.364680</td>\n",
       "      <td>0.571720</td>\n",
       "      <td>1.0</td>\n",
       "      <td>NaN</td>\n",
       "    </tr>\n",
       "    <tr>\n",
       "      <th>4</th>\n",
       "      <td>-0.40628</td>\n",
       "      <td>0.115030</td>\n",
       "      <td>0.073336</td>\n",
       "      <td>0.070066</td>\n",
       "      <td>-0.030920</td>\n",
       "      <td>0.152050</td>\n",
       "      <td>-0.191420</td>\n",
       "      <td>-0.580430</td>\n",
       "      <td>-0.102250</td>\n",
       "      <td>0.153750</td>\n",
       "      <td>-0.126950</td>\n",
       "      <td>0.184570</td>\n",
       "      <td>1.0</td>\n",
       "      <td>NaN</td>\n",
       "    </tr>\n",
       "    <tr>\n",
       "      <th>...</th>\n",
       "      <td>...</td>\n",
       "      <td>...</td>\n",
       "      <td>...</td>\n",
       "      <td>...</td>\n",
       "      <td>...</td>\n",
       "      <td>...</td>\n",
       "      <td>...</td>\n",
       "      <td>...</td>\n",
       "      <td>...</td>\n",
       "      <td>...</td>\n",
       "      <td>...</td>\n",
       "      <td>...</td>\n",
       "      <td>...</td>\n",
       "      <td>...</td>\n",
       "    </tr>\n",
       "    <tr>\n",
       "      <th>177</th>\n",
       "      <td>-0.55005</td>\n",
       "      <td>0.276290</td>\n",
       "      <td>-0.273240</td>\n",
       "      <td>0.113190</td>\n",
       "      <td>-0.776980</td>\n",
       "      <td>0.522660</td>\n",
       "      <td>-0.850620</td>\n",
       "      <td>0.440040</td>\n",
       "      <td>0.203910</td>\n",
       "      <td>-0.014462</td>\n",
       "      <td>0.002273</td>\n",
       "      <td>-0.100480</td>\n",
       "      <td>2.0</td>\n",
       "      <td>NaN</td>\n",
       "    </tr>\n",
       "    <tr>\n",
       "      <th>178</th>\n",
       "      <td>-0.78399</td>\n",
       "      <td>0.254600</td>\n",
       "      <td>-0.700990</td>\n",
       "      <td>-0.299170</td>\n",
       "      <td>-0.858330</td>\n",
       "      <td>0.210500</td>\n",
       "      <td>-0.530050</td>\n",
       "      <td>0.518550</td>\n",
       "      <td>-0.303190</td>\n",
       "      <td>0.020018</td>\n",
       "      <td>-0.020915</td>\n",
       "      <td>0.663940</td>\n",
       "      <td>1.0</td>\n",
       "      <td>NaN</td>\n",
       "    </tr>\n",
       "    <tr>\n",
       "      <th>179</th>\n",
       "      <td>0.29877</td>\n",
       "      <td>-0.179620</td>\n",
       "      <td>0.032859</td>\n",
       "      <td>-0.899010</td>\n",
       "      <td>0.540300</td>\n",
       "      <td>-0.361840</td>\n",
       "      <td>0.177900</td>\n",
       "      <td>0.713250</td>\n",
       "      <td>-0.098148</td>\n",
       "      <td>-0.411130</td>\n",
       "      <td>0.246830</td>\n",
       "      <td>-0.389160</td>\n",
       "      <td>2.0</td>\n",
       "      <td>NaN</td>\n",
       "    </tr>\n",
       "    <tr>\n",
       "      <th>180</th>\n",
       "      <td>-0.37812</td>\n",
       "      <td>-0.522870</td>\n",
       "      <td>0.215410</td>\n",
       "      <td>-0.243590</td>\n",
       "      <td>0.637840</td>\n",
       "      <td>-0.492210</td>\n",
       "      <td>-0.506930</td>\n",
       "      <td>-0.258110</td>\n",
       "      <td>-0.328990</td>\n",
       "      <td>-0.039117</td>\n",
       "      <td>0.007591</td>\n",
       "      <td>0.476030</td>\n",
       "      <td>1.0</td>\n",
       "      <td>NaN</td>\n",
       "    </tr>\n",
       "    <tr>\n",
       "      <th>181</th>\n",
       "      <td>0.37913</td>\n",
       "      <td>-0.046562</td>\n",
       "      <td>-0.123360</td>\n",
       "      <td>-0.063958</td>\n",
       "      <td>-0.109830</td>\n",
       "      <td>-0.045824</td>\n",
       "      <td>0.123800</td>\n",
       "      <td>0.496240</td>\n",
       "      <td>-0.641570</td>\n",
       "      <td>-0.242290</td>\n",
       "      <td>0.173690</td>\n",
       "      <td>0.490630</td>\n",
       "      <td>2.0</td>\n",
       "      <td>NaN</td>\n",
       "    </tr>\n",
       "  </tbody>\n",
       "</table>\n",
       "<p>182 rows × 14 columns</p>\n",
       "</div>"
      ],
      "text/plain": [
       "          0         1         2         3         4         5         6   \\\n",
       "0   -0.17936 -0.207000 -0.209710 -0.097260 -0.119210 -0.173220 -0.280760   \n",
       "1   -0.14659 -0.164940  0.249870 -0.073985  0.494940 -0.156330 -0.288910   \n",
       "2   -0.13131  0.518160  0.432810  0.397890  0.043127  0.563200 -0.013246   \n",
       "3    0.64940  0.418780  0.148350  0.333490 -0.219740  0.398910  0.590650   \n",
       "4   -0.40628  0.115030  0.073336  0.070066 -0.030920  0.152050 -0.191420   \n",
       "..       ...       ...       ...       ...       ...       ...       ...   \n",
       "177 -0.55005  0.276290 -0.273240  0.113190 -0.776980  0.522660 -0.850620   \n",
       "178 -0.78399  0.254600 -0.700990 -0.299170 -0.858330  0.210500 -0.530050   \n",
       "179  0.29877 -0.179620  0.032859 -0.899010  0.540300 -0.361840  0.177900   \n",
       "180 -0.37812 -0.522870  0.215410 -0.243590  0.637840 -0.492210 -0.506930   \n",
       "181  0.37913 -0.046562 -0.123360 -0.063958 -0.109830 -0.045824  0.123800   \n",
       "\n",
       "           7         8         9         10        11   12  13  \n",
       "0    0.223170  0.418660 -0.032886  0.003383 -0.334250  1.0 NaN  \n",
       "1    0.500800 -0.045553  0.050759 -0.017511  0.066959  1.0 NaN  \n",
       "2   -0.062833 -0.883390 -0.040303  0.088057  0.631200  2.0 NaN  \n",
       "3    0.077100 -1.107200 -0.367230  0.364680  0.571720  1.0 NaN  \n",
       "4   -0.580430 -0.102250  0.153750 -0.126950  0.184570  1.0 NaN  \n",
       "..        ...       ...       ...       ...       ...  ...  ..  \n",
       "177  0.440040  0.203910 -0.014462  0.002273 -0.100480  2.0 NaN  \n",
       "178  0.518550 -0.303190  0.020018 -0.020915  0.663940  1.0 NaN  \n",
       "179  0.713250 -0.098148 -0.411130  0.246830 -0.389160  2.0 NaN  \n",
       "180 -0.258110 -0.328990 -0.039117  0.007591  0.476030  1.0 NaN  \n",
       "181  0.496240 -0.641570 -0.242290  0.173690  0.490630  2.0 NaN  \n",
       "\n",
       "[182 rows x 14 columns]"
      ]
     },
     "execution_count": 4,
     "metadata": {},
     "output_type": "execute_result"
    }
   ],
   "source": [
    "df = pd.read_csv('plrx.txt', delimiter = \"\\t\", header=None)\n",
    "df"
   ]
  },
  {
   "cell_type": "code",
   "execution_count": null,
   "id": "dd369e17",
   "metadata": {},
   "outputs": [],
   "source": []
  },
  {
   "cell_type": "code",
   "execution_count": 5,
   "id": "156289b6",
   "metadata": {},
   "outputs": [
    {
     "data": {
      "text/plain": [
       "(182, 14)"
      ]
     },
     "execution_count": 5,
     "metadata": {},
     "output_type": "execute_result"
    }
   ],
   "source": [
    "df.shape\n",
    "#τα δείγματα (instances) είναι οι γραμμές και τα χαρακτηριστικά (attributes) οι στήλες\n",
    "#χρειάστηκε το header=None για να μην παίρνει ως επικεφαλίδα την πρώτη γραμμή\n",
    "\n",
    "#λόγω space στο txt έχει μια έξτρα στήλη NaN που πρέπει να διορθωθεί.\n",
    "#df.shape -> διαστάσεις dataframe"
   ]
  },
  {
   "cell_type": "code",
   "execution_count": 6,
   "id": "49db1418",
   "metadata": {},
   "outputs": [
    {
     "data": {
      "text/plain": [
       "0       0.0\n",
       "1       0.0\n",
       "2       0.0\n",
       "3       0.0\n",
       "4       0.0\n",
       "5       0.0\n",
       "6       0.0\n",
       "7       0.0\n",
       "8       0.0\n",
       "9       0.0\n",
       "10      0.0\n",
       "11      0.0\n",
       "12      0.0\n",
       "13    100.0\n",
       "dtype: float64"
      ]
     },
     "execution_count": 6,
     "metadata": {},
     "output_type": "execute_result"
    }
   ],
   "source": [
    "df.isnull()\n",
    "\n",
    "#εντολή isnull δίνεται η τιμή True όπου υπάρχει κενή τιμή στο dataset, με την isnull.sum() μπορούμε να δούμε σε κάθε κολόνα\n",
    "#πόσα κενά υπάρχουν\n",
    "\n",
    "pd.isnull(df).sum()\n",
    "\n",
    "#παρατηρούμε οτι στην κολόνα 13 λείπουν όλες οι τιμές \n",
    "\n",
    "percent_missing = df.isnull().sum() * 100 / len(df)\n",
    "percent_missing\n",
    "\n"
   ]
  },
  {
   "cell_type": "code",
   "execution_count": 7,
   "id": "20ebe4cd",
   "metadata": {},
   "outputs": [
    {
     "data": {
      "text/plain": [
       "(182, 13)"
      ]
     },
     "execution_count": 7,
     "metadata": {},
     "output_type": "execute_result"
    }
   ],
   "source": [
    "df.drop(13, axis=1, inplace=True)\n",
    "#axis=1 όταν πρόκεται για κολόνα, inplace=True για να κάνει την αλλαγή και όχι μόνο να μας δείξει πως θα ήταν\n",
    "df.shape"
   ]
  },
  {
   "cell_type": "code",
   "execution_count": 8,
   "id": "076d5ce2",
   "metadata": {},
   "outputs": [
    {
     "data": {
      "text/html": [
       "<div>\n",
       "<style scoped>\n",
       "    .dataframe tbody tr th:only-of-type {\n",
       "        vertical-align: middle;\n",
       "    }\n",
       "\n",
       "    .dataframe tbody tr th {\n",
       "        vertical-align: top;\n",
       "    }\n",
       "\n",
       "    .dataframe thead th {\n",
       "        text-align: right;\n",
       "    }\n",
       "</style>\n",
       "<table border=\"1\" class=\"dataframe\">\n",
       "  <thead>\n",
       "    <tr style=\"text-align: right;\">\n",
       "      <th></th>\n",
       "      <th>0</th>\n",
       "      <th>1</th>\n",
       "      <th>2</th>\n",
       "      <th>3</th>\n",
       "      <th>4</th>\n",
       "      <th>5</th>\n",
       "      <th>6</th>\n",
       "      <th>7</th>\n",
       "      <th>8</th>\n",
       "      <th>9</th>\n",
       "      <th>10</th>\n",
       "      <th>11</th>\n",
       "      <th>12</th>\n",
       "    </tr>\n",
       "  </thead>\n",
       "  <tbody>\n",
       "    <tr>\n",
       "      <th>0</th>\n",
       "      <td>-0.17936</td>\n",
       "      <td>-0.207000</td>\n",
       "      <td>-0.209710</td>\n",
       "      <td>-0.097260</td>\n",
       "      <td>-0.119210</td>\n",
       "      <td>-0.173220</td>\n",
       "      <td>-0.280760</td>\n",
       "      <td>0.223170</td>\n",
       "      <td>0.418660</td>\n",
       "      <td>-0.032886</td>\n",
       "      <td>0.003383</td>\n",
       "      <td>-0.334250</td>\n",
       "      <td>1.0</td>\n",
       "    </tr>\n",
       "    <tr>\n",
       "      <th>1</th>\n",
       "      <td>-0.14659</td>\n",
       "      <td>-0.164940</td>\n",
       "      <td>0.249870</td>\n",
       "      <td>-0.073985</td>\n",
       "      <td>0.494940</td>\n",
       "      <td>-0.156330</td>\n",
       "      <td>-0.288910</td>\n",
       "      <td>0.500800</td>\n",
       "      <td>-0.045553</td>\n",
       "      <td>0.050759</td>\n",
       "      <td>-0.017511</td>\n",
       "      <td>0.066959</td>\n",
       "      <td>1.0</td>\n",
       "    </tr>\n",
       "    <tr>\n",
       "      <th>2</th>\n",
       "      <td>-0.13131</td>\n",
       "      <td>0.518160</td>\n",
       "      <td>0.432810</td>\n",
       "      <td>0.397890</td>\n",
       "      <td>0.043127</td>\n",
       "      <td>0.563200</td>\n",
       "      <td>-0.013246</td>\n",
       "      <td>-0.062833</td>\n",
       "      <td>-0.883390</td>\n",
       "      <td>-0.040303</td>\n",
       "      <td>0.088057</td>\n",
       "      <td>0.631200</td>\n",
       "      <td>2.0</td>\n",
       "    </tr>\n",
       "    <tr>\n",
       "      <th>3</th>\n",
       "      <td>0.64940</td>\n",
       "      <td>0.418780</td>\n",
       "      <td>0.148350</td>\n",
       "      <td>0.333490</td>\n",
       "      <td>-0.219740</td>\n",
       "      <td>0.398910</td>\n",
       "      <td>0.590650</td>\n",
       "      <td>0.077100</td>\n",
       "      <td>-1.107200</td>\n",
       "      <td>-0.367230</td>\n",
       "      <td>0.364680</td>\n",
       "      <td>0.571720</td>\n",
       "      <td>1.0</td>\n",
       "    </tr>\n",
       "    <tr>\n",
       "      <th>4</th>\n",
       "      <td>-0.40628</td>\n",
       "      <td>0.115030</td>\n",
       "      <td>0.073336</td>\n",
       "      <td>0.070066</td>\n",
       "      <td>-0.030920</td>\n",
       "      <td>0.152050</td>\n",
       "      <td>-0.191420</td>\n",
       "      <td>-0.580430</td>\n",
       "      <td>-0.102250</td>\n",
       "      <td>0.153750</td>\n",
       "      <td>-0.126950</td>\n",
       "      <td>0.184570</td>\n",
       "      <td>1.0</td>\n",
       "    </tr>\n",
       "    <tr>\n",
       "      <th>...</th>\n",
       "      <td>...</td>\n",
       "      <td>...</td>\n",
       "      <td>...</td>\n",
       "      <td>...</td>\n",
       "      <td>...</td>\n",
       "      <td>...</td>\n",
       "      <td>...</td>\n",
       "      <td>...</td>\n",
       "      <td>...</td>\n",
       "      <td>...</td>\n",
       "      <td>...</td>\n",
       "      <td>...</td>\n",
       "      <td>...</td>\n",
       "    </tr>\n",
       "    <tr>\n",
       "      <th>177</th>\n",
       "      <td>-0.55005</td>\n",
       "      <td>0.276290</td>\n",
       "      <td>-0.273240</td>\n",
       "      <td>0.113190</td>\n",
       "      <td>-0.776980</td>\n",
       "      <td>0.522660</td>\n",
       "      <td>-0.850620</td>\n",
       "      <td>0.440040</td>\n",
       "      <td>0.203910</td>\n",
       "      <td>-0.014462</td>\n",
       "      <td>0.002273</td>\n",
       "      <td>-0.100480</td>\n",
       "      <td>2.0</td>\n",
       "    </tr>\n",
       "    <tr>\n",
       "      <th>178</th>\n",
       "      <td>-0.78399</td>\n",
       "      <td>0.254600</td>\n",
       "      <td>-0.700990</td>\n",
       "      <td>-0.299170</td>\n",
       "      <td>-0.858330</td>\n",
       "      <td>0.210500</td>\n",
       "      <td>-0.530050</td>\n",
       "      <td>0.518550</td>\n",
       "      <td>-0.303190</td>\n",
       "      <td>0.020018</td>\n",
       "      <td>-0.020915</td>\n",
       "      <td>0.663940</td>\n",
       "      <td>1.0</td>\n",
       "    </tr>\n",
       "    <tr>\n",
       "      <th>179</th>\n",
       "      <td>0.29877</td>\n",
       "      <td>-0.179620</td>\n",
       "      <td>0.032859</td>\n",
       "      <td>-0.899010</td>\n",
       "      <td>0.540300</td>\n",
       "      <td>-0.361840</td>\n",
       "      <td>0.177900</td>\n",
       "      <td>0.713250</td>\n",
       "      <td>-0.098148</td>\n",
       "      <td>-0.411130</td>\n",
       "      <td>0.246830</td>\n",
       "      <td>-0.389160</td>\n",
       "      <td>2.0</td>\n",
       "    </tr>\n",
       "    <tr>\n",
       "      <th>180</th>\n",
       "      <td>-0.37812</td>\n",
       "      <td>-0.522870</td>\n",
       "      <td>0.215410</td>\n",
       "      <td>-0.243590</td>\n",
       "      <td>0.637840</td>\n",
       "      <td>-0.492210</td>\n",
       "      <td>-0.506930</td>\n",
       "      <td>-0.258110</td>\n",
       "      <td>-0.328990</td>\n",
       "      <td>-0.039117</td>\n",
       "      <td>0.007591</td>\n",
       "      <td>0.476030</td>\n",
       "      <td>1.0</td>\n",
       "    </tr>\n",
       "    <tr>\n",
       "      <th>181</th>\n",
       "      <td>0.37913</td>\n",
       "      <td>-0.046562</td>\n",
       "      <td>-0.123360</td>\n",
       "      <td>-0.063958</td>\n",
       "      <td>-0.109830</td>\n",
       "      <td>-0.045824</td>\n",
       "      <td>0.123800</td>\n",
       "      <td>0.496240</td>\n",
       "      <td>-0.641570</td>\n",
       "      <td>-0.242290</td>\n",
       "      <td>0.173690</td>\n",
       "      <td>0.490630</td>\n",
       "      <td>2.0</td>\n",
       "    </tr>\n",
       "  </tbody>\n",
       "</table>\n",
       "<p>182 rows × 13 columns</p>\n",
       "</div>"
      ],
      "text/plain": [
       "          0         1         2         3         4         5         6   \\\n",
       "0   -0.17936 -0.207000 -0.209710 -0.097260 -0.119210 -0.173220 -0.280760   \n",
       "1   -0.14659 -0.164940  0.249870 -0.073985  0.494940 -0.156330 -0.288910   \n",
       "2   -0.13131  0.518160  0.432810  0.397890  0.043127  0.563200 -0.013246   \n",
       "3    0.64940  0.418780  0.148350  0.333490 -0.219740  0.398910  0.590650   \n",
       "4   -0.40628  0.115030  0.073336  0.070066 -0.030920  0.152050 -0.191420   \n",
       "..       ...       ...       ...       ...       ...       ...       ...   \n",
       "177 -0.55005  0.276290 -0.273240  0.113190 -0.776980  0.522660 -0.850620   \n",
       "178 -0.78399  0.254600 -0.700990 -0.299170 -0.858330  0.210500 -0.530050   \n",
       "179  0.29877 -0.179620  0.032859 -0.899010  0.540300 -0.361840  0.177900   \n",
       "180 -0.37812 -0.522870  0.215410 -0.243590  0.637840 -0.492210 -0.506930   \n",
       "181  0.37913 -0.046562 -0.123360 -0.063958 -0.109830 -0.045824  0.123800   \n",
       "\n",
       "           7         8         9         10        11   12  \n",
       "0    0.223170  0.418660 -0.032886  0.003383 -0.334250  1.0  \n",
       "1    0.500800 -0.045553  0.050759 -0.017511  0.066959  1.0  \n",
       "2   -0.062833 -0.883390 -0.040303  0.088057  0.631200  2.0  \n",
       "3    0.077100 -1.107200 -0.367230  0.364680  0.571720  1.0  \n",
       "4   -0.580430 -0.102250  0.153750 -0.126950  0.184570  1.0  \n",
       "..        ...       ...       ...       ...       ...  ...  \n",
       "177  0.440040  0.203910 -0.014462  0.002273 -0.100480  2.0  \n",
       "178  0.518550 -0.303190  0.020018 -0.020915  0.663940  1.0  \n",
       "179  0.713250 -0.098148 -0.411130  0.246830 -0.389160  2.0  \n",
       "180 -0.258110 -0.328990 -0.039117  0.007591  0.476030  1.0  \n",
       "181  0.496240 -0.641570 -0.242290  0.173690  0.490630  2.0  \n",
       "\n",
       "[182 rows x 13 columns]"
      ]
     },
     "execution_count": 8,
     "metadata": {},
     "output_type": "execute_result"
    }
   ],
   "source": [
    "df"
   ]
  },
  {
   "cell_type": "code",
   "execution_count": 9,
   "id": "731548fb",
   "metadata": {},
   "outputs": [
    {
     "data": {
      "text/plain": [
       "array([1., 2.])"
      ]
     },
     "execution_count": 9,
     "metadata": {},
     "output_type": "execute_result"
    }
   ],
   "source": [
    "df[12].unique() #οι κλάσεις είναι 2 με τιμές 1 και 2 όπως εκτυπώνει η εντολή , binary dataset"
   ]
  },
  {
   "cell_type": "code",
   "execution_count": 10,
   "id": "de4fe9bf",
   "metadata": {},
   "outputs": [],
   "source": [
    "#υπάρχουν ετικέτες κλάσεων (1,2) και βρίσκονται στην 13η κολόνα\n",
    "\n",
    "#με την εντολή isnull δίνεται η τιμή True όπου υπάρχει κενή τιμή στο dataset, με την isnull.sum() μπορούμε να δούμε σε κάθε κολόνα\n",
    "#πόσα κενά υπάρχουν"
   ]
  },
  {
   "cell_type": "code",
   "execution_count": 11,
   "id": "1b6ec903",
   "metadata": {},
   "outputs": [
    {
     "data": {
      "text/plain": [
       "130"
      ]
     },
     "execution_count": 11,
     "metadata": {},
     "output_type": "execute_result"
    }
   ],
   "source": [
    "#με την παρακάτω εντολή μετράμε στην 13η κολόνα πόσες 1.0 τιμές υπάρχουν, άρα 130->1.0 και 52->2.0 άρα μη ισορροπημένο dataset\n",
    "df[12].value_counts()[1.0]"
   ]
  },
  {
   "cell_type": "code",
   "execution_count": 63,
   "id": "688dc03a",
   "metadata": {},
   "outputs": [],
   "source": [
    "from sklearn.model_selection import train_test_split\n",
    "X = df.drop(12,axis=1)\n",
    "y = df[12]\n",
    "X_train, X_test, y_train, y_test= train_test_split(X, y, test_size=0.3, random_state=7)\n",
    "#το random_state αν ορίσουμε έναν int τότε βγάζει κάθε φορά το ίδιο αποτέλεσμα"
   ]
  },
  {
   "cell_type": "code",
   "execution_count": 71,
   "id": "40338f9d",
   "metadata": {},
   "outputs": [
    {
     "data": {
      "text/plain": [
       "88     1.0\n",
       "108    1.0\n",
       "49     1.0\n",
       "141    1.0\n",
       "46     2.0\n",
       "      ... \n",
       "103    1.0\n",
       "151    1.0\n",
       "67     1.0\n",
       "25     1.0\n",
       "175    2.0\n",
       "Name: 12, Length: 127, dtype: float64"
      ]
     },
     "execution_count": 71,
     "metadata": {},
     "output_type": "execute_result"
    }
   ],
   "source": [
    "#βλέπουμε ότι δεν έχουμε διαφορετικούς τύπους στο dataset, μη κατηγορικά featuresw\n",
    "y_train"
   ]
  },
  {
   "cell_type": "markdown",
   "id": "c098b47e",
   "metadata": {},
   "source": [
    "# Ταξινόμηση "
   ]
  },
  {
   "cell_type": "code",
   "execution_count": 65,
   "id": "21e554c9",
   "metadata": {},
   "outputs": [
    {
     "data": {
      "text/html": [
       "<style>#sk-container-id-1 {color: black;background-color: white;}#sk-container-id-1 pre{padding: 0;}#sk-container-id-1 div.sk-toggleable {background-color: white;}#sk-container-id-1 label.sk-toggleable__label {cursor: pointer;display: block;width: 100%;margin-bottom: 0;padding: 0.3em;box-sizing: border-box;text-align: center;}#sk-container-id-1 label.sk-toggleable__label-arrow:before {content: \"▸\";float: left;margin-right: 0.25em;color: #696969;}#sk-container-id-1 label.sk-toggleable__label-arrow:hover:before {color: black;}#sk-container-id-1 div.sk-estimator:hover label.sk-toggleable__label-arrow:before {color: black;}#sk-container-id-1 div.sk-toggleable__content {max-height: 0;max-width: 0;overflow: hidden;text-align: left;background-color: #f0f8ff;}#sk-container-id-1 div.sk-toggleable__content pre {margin: 0.2em;color: black;border-radius: 0.25em;background-color: #f0f8ff;}#sk-container-id-1 input.sk-toggleable__control:checked~div.sk-toggleable__content {max-height: 200px;max-width: 100%;overflow: auto;}#sk-container-id-1 input.sk-toggleable__control:checked~label.sk-toggleable__label-arrow:before {content: \"▾\";}#sk-container-id-1 div.sk-estimator input.sk-toggleable__control:checked~label.sk-toggleable__label {background-color: #d4ebff;}#sk-container-id-1 div.sk-label input.sk-toggleable__control:checked~label.sk-toggleable__label {background-color: #d4ebff;}#sk-container-id-1 input.sk-hidden--visually {border: 0;clip: rect(1px 1px 1px 1px);clip: rect(1px, 1px, 1px, 1px);height: 1px;margin: -1px;overflow: hidden;padding: 0;position: absolute;width: 1px;}#sk-container-id-1 div.sk-estimator {font-family: monospace;background-color: #f0f8ff;border: 1px dotted black;border-radius: 0.25em;box-sizing: border-box;margin-bottom: 0.5em;}#sk-container-id-1 div.sk-estimator:hover {background-color: #d4ebff;}#sk-container-id-1 div.sk-parallel-item::after {content: \"\";width: 100%;border-bottom: 1px solid gray;flex-grow: 1;}#sk-container-id-1 div.sk-label:hover label.sk-toggleable__label {background-color: #d4ebff;}#sk-container-id-1 div.sk-serial::before {content: \"\";position: absolute;border-left: 1px solid gray;box-sizing: border-box;top: 0;bottom: 0;left: 50%;z-index: 0;}#sk-container-id-1 div.sk-serial {display: flex;flex-direction: column;align-items: center;background-color: white;padding-right: 0.2em;padding-left: 0.2em;position: relative;}#sk-container-id-1 div.sk-item {position: relative;z-index: 1;}#sk-container-id-1 div.sk-parallel {display: flex;align-items: stretch;justify-content: center;background-color: white;position: relative;}#sk-container-id-1 div.sk-item::before, #sk-container-id-1 div.sk-parallel-item::before {content: \"\";position: absolute;border-left: 1px solid gray;box-sizing: border-box;top: 0;bottom: 0;left: 50%;z-index: -1;}#sk-container-id-1 div.sk-parallel-item {display: flex;flex-direction: column;z-index: 1;position: relative;background-color: white;}#sk-container-id-1 div.sk-parallel-item:first-child::after {align-self: flex-end;width: 50%;}#sk-container-id-1 div.sk-parallel-item:last-child::after {align-self: flex-start;width: 50%;}#sk-container-id-1 div.sk-parallel-item:only-child::after {width: 0;}#sk-container-id-1 div.sk-dashed-wrapped {border: 1px dashed gray;margin: 0 0.4em 0.5em 0.4em;box-sizing: border-box;padding-bottom: 0.4em;background-color: white;}#sk-container-id-1 div.sk-label label {font-family: monospace;font-weight: bold;display: inline-block;line-height: 1.2em;}#sk-container-id-1 div.sk-label-container {text-align: center;}#sk-container-id-1 div.sk-container {/* jupyter's `normalize.less` sets `[hidden] { display: none; }` but bootstrap.min.css set `[hidden] { display: none !important; }` so we also need the `!important` here to be able to override the default hidden behavior on the sphinx rendered scikit-learn.org. See: https://github.com/scikit-learn/scikit-learn/issues/21755 */display: inline-block !important;position: relative;}#sk-container-id-1 div.sk-text-repr-fallback {display: none;}</style><div id=\"sk-container-id-1\" class=\"sk-top-container\"><div class=\"sk-text-repr-fallback\"><pre>GaussianNB()</pre><b>In a Jupyter environment, please rerun this cell to show the HTML representation or trust the notebook. <br />On GitHub, the HTML representation is unable to render, please try loading this page with nbviewer.org.</b></div><div class=\"sk-container\" hidden><div class=\"sk-item\"><div class=\"sk-estimator sk-toggleable\"><input class=\"sk-toggleable__control sk-hidden--visually\" id=\"sk-estimator-id-1\" type=\"checkbox\" checked><label for=\"sk-estimator-id-1\" class=\"sk-toggleable__label sk-toggleable__label-arrow\">GaussianNB</label><div class=\"sk-toggleable__content\"><pre>GaussianNB()</pre></div></div></div></div></div>"
      ],
      "text/plain": [
       "GaussianNB()"
      ]
     },
     "execution_count": 65,
     "metadata": {},
     "output_type": "execute_result"
    }
   ],
   "source": [
    "#για την μέθοδο Gaussian Naive Bayes (GNB)\n",
    "import matplotlib.pyplot as plt\n",
    "from sklearn.naive_bayes import GaussianNB\n",
    "NBModel=GaussianNB()\n",
    "NBModel.fit(X_train,y_train)"
   ]
  },
  {
   "cell_type": "code",
   "execution_count": 67,
   "id": "74cbbe1d",
   "metadata": {},
   "outputs": [
    {
     "data": {
      "text/plain": [
       "0.5636363636363636"
      ]
     },
     "execution_count": 67,
     "metadata": {},
     "output_type": "execute_result"
    }
   ],
   "source": [
    "y_pred = NBModel.predict(X_test)\n",
    "from sklearn.metrics import accuracy_score\n",
    "accuracy_score(y_test, y_pred)"
   ]
  },
  {
   "cell_type": "code",
   "execution_count": 70,
   "id": "2d88f178",
   "metadata": {},
   "outputs": [
    {
     "data": {
      "text/plain": [
       "0.7"
      ]
     },
     "execution_count": 70,
     "metadata": {},
     "output_type": "execute_result"
    }
   ],
   "source": [
    "from sklearn.metrics import f1_score\n",
    "f1_score(y_test, y_pred, average='binary')"
   ]
  }
 ],
 "metadata": {
  "kernelspec": {
   "display_name": "Python 3 (ipykernel)",
   "language": "python",
   "name": "python3"
  },
  "language_info": {
   "codemirror_mode": {
    "name": "ipython",
    "version": 3
   },
   "file_extension": ".py",
   "mimetype": "text/x-python",
   "name": "python",
   "nbconvert_exporter": "python",
   "pygments_lexer": "ipython3",
   "version": "3.10.6"
  },
  "vscode": {
   "interpreter": {
    "hash": "4cf6f93deb876cd67858c06803243417672a4d5aee7ba4f56e01d00b2a650c5e"
   }
  }
 },
 "nbformat": 4,
 "nbformat_minor": 5
}
